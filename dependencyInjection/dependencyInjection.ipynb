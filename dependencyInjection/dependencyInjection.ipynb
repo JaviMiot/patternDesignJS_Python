{
 "cells": [
  {
   "cell_type": "markdown",
   "metadata": {},
   "source": [
    "__Nuestro código debe tener un alto nivel de cohesión y un bajo nivel de acoplamiento.__"
   ]
  },
  {
   "cell_type": "markdown",
   "metadata": {},
   "source": [
    "Veamos a continuación un ejemplo de __inyección de dependencias__"
   ]
  },
  {
   "cell_type": "markdown",
   "metadata": {},
   "source": [
    "La inyección de dependencia se puede realizar de 3 formas:\n",
    "1. Constructor injection\n",
    "2. Property injection\n",
    "3. Method injection."
   ]
  },
  {
   "cell_type": "markdown",
   "metadata": {},
   "source": [
    "## Inyección de dependencia por contructor"
   ]
  },
  {
   "cell_type": "code",
   "execution_count": 9,
   "metadata": {},
   "outputs": [],
   "source": [
    "class Monitor:\n",
    "    pass\n",
    "\n",
    "class MonitorBenQ(Monitor):\n",
    "    pass\n",
    "\n",
    "class MonitorHP(Monitor):\n",
    "    pass\n",
    "\n",
    "class Computer:\n",
    "    def __init__(self, monitor: Monitor):\n",
    "        self.monitor = monitor\n",
    "\n",
    "monitor_hp = MonitorHP()\n",
    "computer = Computer(monitor_hp)"
   ]
  },
  {
   "cell_type": "markdown",
   "metadata": {},
   "source": [
    "Veamos un ejemplo más"
   ]
  },
  {
   "cell_type": "code",
   "execution_count": 13,
   "metadata": {},
   "outputs": [],
   "source": [
    "class Config:\n",
    "    def __init__(self, database, username, password, host, port):\n",
    "        self.database = database\n",
    "        self.username = username\n",
    "        self.password = password\n",
    "        self.host = host\n",
    "        self.port = port\n",
    "\n",
    "class DataBaseConnect:\n",
    "    def __init__(self, config: Config):\n",
    "        self.config = Config\n"
   ]
  },
  {
   "cell_type": "markdown",
   "metadata": {},
   "source": [
    "Con esto podemos pasarle diferentes configuraciones"
   ]
  },
  {
   "cell_type": "code",
   "execution_count": null,
   "metadata": {},
   "outputs": [],
   "source": [
    "development = Config('pywombat', 'root', 'password', 'localhost', 2207)\n",
    "production = Config('pywombat', 'superadmin', 'password', '157.245.120.121', 2207)\n",
    "testing= Config('pywombat', 'test', 'password', '157.245.120.121', 2207)\n",
    "\n",
    "connect = DataBaseConnect(development)\n",
    "connect = DataBaseConnect(production)\n",
    "connect = DataBaseConnect(testing)"
   ]
  },
  {
   "cell_type": "markdown",
   "metadata": {},
   "source": [
    "## Inyección de dependencia  por propiedad\n",
    "En este caso la inyección de dependencias se las hace através de la propiedad pública."
   ]
  },
  {
   "cell_type": "code",
   "execution_count": 12,
   "metadata": {},
   "outputs": [],
   "source": [
    "class CustomerLogic:\n",
    "    pass\n",
    "\n",
    "class CustomerLogicArea1(CustomerLogic):\n",
    "    pass\n",
    "\n",
    "class CustomerLogicArea2(CustomerLogic):\n",
    "    pass\n",
    "\n",
    "class CustomerService:\n",
    "    def __init__(self):\n",
    "        self.__logic = None\n",
    "\n",
    "    def setLogic(self, logic: CustomerLogic):\n",
    "        self.__logic = logic\n",
    "\n",
    "### Implementando tendriamos lo siguiente\n",
    "customerLogicA = CustomerLogicArea1()\n",
    "customerLogicB = CustomerLogicArea2()\n",
    "\n",
    "service = CustomerService()\n",
    "\n",
    "## Aquí puedo cambiar la dependencia.\n",
    "service.setLogic(customerLogicA)\n",
    "service.setLogic(customerLogicB)"
   ]
  }
 ],
 "metadata": {
  "interpreter": {
   "hash": "31f2aee4e71d21fbe5cf8b01ff0e069b9275f58929596ceb00d14d90e3e16cd6"
  },
  "kernelspec": {
   "display_name": "Python 3.6.9 64-bit",
   "language": "python",
   "name": "python3"
  },
  "language_info": {
   "codemirror_mode": {
    "name": "ipython",
    "version": 3
   },
   "file_extension": ".py",
   "mimetype": "text/x-python",
   "name": "python",
   "nbconvert_exporter": "python",
   "pygments_lexer": "ipython3",
   "version": "3.6.9"
  },
  "orig_nbformat": 4
 },
 "nbformat": 4,
 "nbformat_minor": 2
}
